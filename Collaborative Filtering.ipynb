{
 "cells": [
  {
   "cell_type": "code",
   "execution_count": 1,
   "metadata": {},
   "outputs": [],
   "source": [
    "import numpy as np\n",
    "import pandas as pd\n",
    "import os\n",
    "import glob\n",
    "import matplotlib.pyplot as plt\n",
    "import seaborn as sns"
   ]
  },
  {
   "cell_type": "code",
   "execution_count": 2,
   "metadata": {},
   "outputs": [
    {
     "name": "stdout",
     "output_type": "stream",
     "text": [
      "Created dataframe names: \n",
      "campaign_data\n",
      "coupon_item_mapping\n",
      "customer_demographics\n",
      "customer_transaction_data\n",
      "final_train\n",
      "item_data\n",
      "smote\n",
      "test\n",
      "train\n"
     ]
    }
   ],
   "source": [
    "path = \"D:\\Algorithmic Marketing\\coupon-redemption-smote-feature-selection\"\n",
    "csv_pattern = os.path.join(path, \"*.csv\")\n",
    "file_list = glob.glob(csv_pattern)\n",
    "\n",
    "print(\"Created dataframe names: \")\n",
    "for file in file_list:\n",
    "    \n",
    "    vars()[os.path.basename(file)[:-4]] = pd.read_csv(file)\n",
    "    print(os.path.basename(file)[:-4])\n",
    "  "
   ]
  },
  {
   "cell_type": "code",
   "execution_count": 3,
   "metadata": {},
   "outputs": [
    {
     "name": "stdout",
     "output_type": "stream",
     "text": [
      "date               0\n",
      "customer_id        0\n",
      "item_id            0\n",
      "quantity           0\n",
      "selling_price      0\n",
      "other_discount     0\n",
      "coupon_discount    0\n",
      "dtype: int64\n"
     ]
    }
   ],
   "source": [
    "print(customer_transaction_data.isnull().sum())"
   ]
  },
  {
   "cell_type": "code",
   "execution_count": 24,
   "metadata": {},
   "outputs": [
    {
     "name": "stdout",
     "output_type": "stream",
     "text": [
      "(28, 4)\n"
     ]
    },
    {
     "data": {
      "text/plain": [
       "(21286, 7)"
      ]
     },
     "execution_count": 24,
     "metadata": {},
     "output_type": "execute_result"
    }
   ],
   "source": [
    "print(campaign_data.shape)\n",
    "customer_transaction_data[customer_transaction_data.coupon_discount!=0].shape"
   ]
  },
  {
   "cell_type": "code",
   "execution_count": 39,
   "metadata": {},
   "outputs": [
    {
     "ename": "KeyError",
     "evalue": "'campaign_id'",
     "output_type": "error",
     "traceback": [
      "\u001b[1;31m---------------------------------------------------------------------------\u001b[0m",
      "\u001b[1;31mKeyError\u001b[0m                                  Traceback (most recent call last)",
      "\u001b[1;32m<ipython-input-39-1ecd4e738209>\u001b[0m in \u001b[0;36m<module>\u001b[1;34m\u001b[0m\n\u001b[0;32m      1\u001b[0m \u001b[0mdf\u001b[0m \u001b[1;33m=\u001b[0m \u001b[0mpd\u001b[0m\u001b[1;33m.\u001b[0m\u001b[0mmerge\u001b[0m\u001b[1;33m(\u001b[0m\u001b[0mcampaign_data\u001b[0m\u001b[1;33m,\u001b[0m \u001b[0mtrain\u001b[0m\u001b[1;33m,\u001b[0m \u001b[0mon\u001b[0m\u001b[1;33m=\u001b[0m\u001b[1;34m\"campaign_id\"\u001b[0m\u001b[1;33m)\u001b[0m\u001b[1;33m\u001b[0m\u001b[1;33m\u001b[0m\u001b[0m\n\u001b[1;32m----> 2\u001b[1;33m \u001b[0mdf\u001b[0m \u001b[1;33m=\u001b[0m \u001b[0mdf\u001b[0m\u001b[1;33m[\u001b[0m\u001b[1;34m\"campaign_id\"\u001b[0m\u001b[1;33m]\u001b[0m\u001b[1;33m.\u001b[0m\u001b[0mgroupby\u001b[0m\u001b[1;33m(\u001b[0m\u001b[1;33m[\u001b[0m\u001b[1;34m\"campaign_id\"\u001b[0m\u001b[1;33m,\u001b[0m \u001b[1;34m\"redemeption_status\"\u001b[0m\u001b[1;33m]\u001b[0m\u001b[1;33m)\u001b[0m\u001b[1;33m.\u001b[0m\u001b[0mcount\u001b[0m\u001b[1;33m(\u001b[0m\u001b[1;33m)\u001b[0m\u001b[1;33m\u001b[0m\u001b[1;33m\u001b[0m\u001b[0m\n\u001b[0m\u001b[0;32m      3\u001b[0m \u001b[0mdf\u001b[0m\u001b[1;33m\u001b[0m\u001b[1;33m\u001b[0m\u001b[0m\n",
      "\u001b[1;32m~\\Anaconda3\\lib\\site-packages\\pandas\\core\\generic.py\u001b[0m in \u001b[0;36mgroupby\u001b[1;34m(self, by, axis, level, as_index, sort, group_keys, squeeze, observed, **kwargs)\u001b[0m\n\u001b[0;32m   7892\u001b[0m             \u001b[0msqueeze\u001b[0m\u001b[1;33m=\u001b[0m\u001b[0msqueeze\u001b[0m\u001b[1;33m,\u001b[0m\u001b[1;33m\u001b[0m\u001b[1;33m\u001b[0m\u001b[0m\n\u001b[0;32m   7893\u001b[0m             \u001b[0mobserved\u001b[0m\u001b[1;33m=\u001b[0m\u001b[0mobserved\u001b[0m\u001b[1;33m,\u001b[0m\u001b[1;33m\u001b[0m\u001b[1;33m\u001b[0m\u001b[0m\n\u001b[1;32m-> 7894\u001b[1;33m             \u001b[1;33m**\u001b[0m\u001b[0mkwargs\u001b[0m\u001b[1;33m\u001b[0m\u001b[1;33m\u001b[0m\u001b[0m\n\u001b[0m\u001b[0;32m   7895\u001b[0m         )\n\u001b[0;32m   7896\u001b[0m \u001b[1;33m\u001b[0m\u001b[0m\n",
      "\u001b[1;32m~\\Anaconda3\\lib\\site-packages\\pandas\\core\\groupby\\groupby.py\u001b[0m in \u001b[0;36mgroupby\u001b[1;34m(obj, by, **kwds)\u001b[0m\n\u001b[0;32m   2520\u001b[0m         \u001b[1;32mraise\u001b[0m \u001b[0mTypeError\u001b[0m\u001b[1;33m(\u001b[0m\u001b[1;34m\"invalid type: {}\"\u001b[0m\u001b[1;33m.\u001b[0m\u001b[0mformat\u001b[0m\u001b[1;33m(\u001b[0m\u001b[0mobj\u001b[0m\u001b[1;33m)\u001b[0m\u001b[1;33m)\u001b[0m\u001b[1;33m\u001b[0m\u001b[1;33m\u001b[0m\u001b[0m\n\u001b[0;32m   2521\u001b[0m \u001b[1;33m\u001b[0m\u001b[0m\n\u001b[1;32m-> 2522\u001b[1;33m     \u001b[1;32mreturn\u001b[0m \u001b[0mklass\u001b[0m\u001b[1;33m(\u001b[0m\u001b[0mobj\u001b[0m\u001b[1;33m,\u001b[0m \u001b[0mby\u001b[0m\u001b[1;33m,\u001b[0m \u001b[1;33m**\u001b[0m\u001b[0mkwds\u001b[0m\u001b[1;33m)\u001b[0m\u001b[1;33m\u001b[0m\u001b[1;33m\u001b[0m\u001b[0m\n\u001b[0m",
      "\u001b[1;32m~\\Anaconda3\\lib\\site-packages\\pandas\\core\\groupby\\groupby.py\u001b[0m in \u001b[0;36m__init__\u001b[1;34m(self, obj, keys, axis, level, grouper, exclusions, selection, as_index, sort, group_keys, squeeze, observed, **kwargs)\u001b[0m\n\u001b[0;32m    389\u001b[0m                 \u001b[0msort\u001b[0m\u001b[1;33m=\u001b[0m\u001b[0msort\u001b[0m\u001b[1;33m,\u001b[0m\u001b[1;33m\u001b[0m\u001b[1;33m\u001b[0m\u001b[0m\n\u001b[0;32m    390\u001b[0m                 \u001b[0mobserved\u001b[0m\u001b[1;33m=\u001b[0m\u001b[0mobserved\u001b[0m\u001b[1;33m,\u001b[0m\u001b[1;33m\u001b[0m\u001b[1;33m\u001b[0m\u001b[0m\n\u001b[1;32m--> 391\u001b[1;33m                 \u001b[0mmutated\u001b[0m\u001b[1;33m=\u001b[0m\u001b[0mself\u001b[0m\u001b[1;33m.\u001b[0m\u001b[0mmutated\u001b[0m\u001b[1;33m,\u001b[0m\u001b[1;33m\u001b[0m\u001b[1;33m\u001b[0m\u001b[0m\n\u001b[0m\u001b[0;32m    392\u001b[0m             )\n\u001b[0;32m    393\u001b[0m \u001b[1;33m\u001b[0m\u001b[0m\n",
      "\u001b[1;32m~\\Anaconda3\\lib\\site-packages\\pandas\\core\\groupby\\grouper.py\u001b[0m in \u001b[0;36m_get_grouper\u001b[1;34m(obj, key, axis, level, sort, observed, mutated, validate)\u001b[0m\n\u001b[0;32m    619\u001b[0m                 \u001b[0min_axis\u001b[0m\u001b[1;33m,\u001b[0m \u001b[0mname\u001b[0m\u001b[1;33m,\u001b[0m \u001b[0mlevel\u001b[0m\u001b[1;33m,\u001b[0m \u001b[0mgpr\u001b[0m \u001b[1;33m=\u001b[0m \u001b[1;32mFalse\u001b[0m\u001b[1;33m,\u001b[0m \u001b[1;32mNone\u001b[0m\u001b[1;33m,\u001b[0m \u001b[0mgpr\u001b[0m\u001b[1;33m,\u001b[0m \u001b[1;32mNone\u001b[0m\u001b[1;33m\u001b[0m\u001b[1;33m\u001b[0m\u001b[0m\n\u001b[0;32m    620\u001b[0m             \u001b[1;32melse\u001b[0m\u001b[1;33m:\u001b[0m\u001b[1;33m\u001b[0m\u001b[1;33m\u001b[0m\u001b[0m\n\u001b[1;32m--> 621\u001b[1;33m                 \u001b[1;32mraise\u001b[0m \u001b[0mKeyError\u001b[0m\u001b[1;33m(\u001b[0m\u001b[0mgpr\u001b[0m\u001b[1;33m)\u001b[0m\u001b[1;33m\u001b[0m\u001b[1;33m\u001b[0m\u001b[0m\n\u001b[0m\u001b[0;32m    622\u001b[0m         \u001b[1;32melif\u001b[0m \u001b[0misinstance\u001b[0m\u001b[1;33m(\u001b[0m\u001b[0mgpr\u001b[0m\u001b[1;33m,\u001b[0m \u001b[0mGrouper\u001b[0m\u001b[1;33m)\u001b[0m \u001b[1;32mand\u001b[0m \u001b[0mgpr\u001b[0m\u001b[1;33m.\u001b[0m\u001b[0mkey\u001b[0m \u001b[1;32mis\u001b[0m \u001b[1;32mnot\u001b[0m \u001b[1;32mNone\u001b[0m\u001b[1;33m:\u001b[0m\u001b[1;33m\u001b[0m\u001b[1;33m\u001b[0m\u001b[0m\n\u001b[0;32m    623\u001b[0m             \u001b[1;31m# Add key to exclusions\u001b[0m\u001b[1;33m\u001b[0m\u001b[1;33m\u001b[0m\u001b[1;33m\u001b[0m\u001b[0m\n",
      "\u001b[1;31mKeyError\u001b[0m: 'campaign_id'"
     ]
    }
   ],
   "source": [
    "df = pd.merge(campaign_data, train, on=\"campaign_id\")\n",
    "df = df[\"campaign_id\"].groupby([\"campaign_id\", \"redemeption_status\"]).count()\n",
    "df"
   ]
  },
  {
   "cell_type": "code",
   "execution_count": 4,
   "metadata": {},
   "outputs": [
    {
     "data": {
      "text/html": [
       "<div>\n",
       "<style scoped>\n",
       "    .dataframe tbody tr th:only-of-type {\n",
       "        vertical-align: middle;\n",
       "    }\n",
       "\n",
       "    .dataframe tbody tr th {\n",
       "        vertical-align: top;\n",
       "    }\n",
       "\n",
       "    .dataframe thead th {\n",
       "        text-align: right;\n",
       "    }\n",
       "</style>\n",
       "<table border=\"1\" class=\"dataframe\">\n",
       "  <thead>\n",
       "    <tr style=\"text-align: right;\">\n",
       "      <th></th>\n",
       "      <th>date</th>\n",
       "      <th>customer_id</th>\n",
       "      <th>item_id</th>\n",
       "      <th>quantity</th>\n",
       "      <th>selling_price</th>\n",
       "      <th>other_discount</th>\n",
       "      <th>coupon_discount</th>\n",
       "    </tr>\n",
       "  </thead>\n",
       "  <tbody>\n",
       "    <tr>\n",
       "      <td>0</td>\n",
       "      <td>2012-01-02</td>\n",
       "      <td>1501</td>\n",
       "      <td>26830</td>\n",
       "      <td>1</td>\n",
       "      <td>35.26</td>\n",
       "      <td>-10.69</td>\n",
       "      <td>0.0</td>\n",
       "    </tr>\n",
       "    <tr>\n",
       "      <td>1</td>\n",
       "      <td>2012-01-02</td>\n",
       "      <td>1501</td>\n",
       "      <td>54253</td>\n",
       "      <td>1</td>\n",
       "      <td>53.43</td>\n",
       "      <td>-13.89</td>\n",
       "      <td>0.0</td>\n",
       "    </tr>\n",
       "    <tr>\n",
       "      <td>2</td>\n",
       "      <td>2012-01-02</td>\n",
       "      <td>1501</td>\n",
       "      <td>31962</td>\n",
       "      <td>1</td>\n",
       "      <td>106.50</td>\n",
       "      <td>-14.25</td>\n",
       "      <td>0.0</td>\n",
       "    </tr>\n",
       "    <tr>\n",
       "      <td>3</td>\n",
       "      <td>2012-01-02</td>\n",
       "      <td>1501</td>\n",
       "      <td>33647</td>\n",
       "      <td>1</td>\n",
       "      <td>67.32</td>\n",
       "      <td>0.00</td>\n",
       "      <td>0.0</td>\n",
       "    </tr>\n",
       "    <tr>\n",
       "      <td>4</td>\n",
       "      <td>2012-01-02</td>\n",
       "      <td>1501</td>\n",
       "      <td>48199</td>\n",
       "      <td>1</td>\n",
       "      <td>71.24</td>\n",
       "      <td>-28.14</td>\n",
       "      <td>0.0</td>\n",
       "    </tr>\n",
       "  </tbody>\n",
       "</table>\n",
       "</div>"
      ],
      "text/plain": [
       "         date  customer_id  item_id  quantity  selling_price  other_discount  \\\n",
       "0  2012-01-02         1501    26830         1          35.26          -10.69   \n",
       "1  2012-01-02         1501    54253         1          53.43          -13.89   \n",
       "2  2012-01-02         1501    31962         1         106.50          -14.25   \n",
       "3  2012-01-02         1501    33647         1          67.32            0.00   \n",
       "4  2012-01-02         1501    48199         1          71.24          -28.14   \n",
       "\n",
       "   coupon_discount  \n",
       "0              0.0  \n",
       "1              0.0  \n",
       "2              0.0  \n",
       "3              0.0  \n",
       "4              0.0  "
      ]
     },
     "execution_count": 4,
     "metadata": {},
     "output_type": "execute_result"
    }
   ],
   "source": [
    "customer_transaction_data.head()"
   ]
  },
  {
   "cell_type": "code",
   "execution_count": 5,
   "metadata": {},
   "outputs": [
    {
     "data": {
      "text/html": [
       "<div>\n",
       "<style scoped>\n",
       "    .dataframe tbody tr th:only-of-type {\n",
       "        vertical-align: middle;\n",
       "    }\n",
       "\n",
       "    .dataframe tbody tr th {\n",
       "        vertical-align: top;\n",
       "    }\n",
       "\n",
       "    .dataframe thead th {\n",
       "        text-align: right;\n",
       "    }\n",
       "</style>\n",
       "<table border=\"1\" class=\"dataframe\">\n",
       "  <thead>\n",
       "    <tr style=\"text-align: right;\">\n",
       "      <th></th>\n",
       "      <th>customer_id</th>\n",
       "      <th>item_id</th>\n",
       "      <th>quantity</th>\n",
       "    </tr>\n",
       "  </thead>\n",
       "  <tbody>\n",
       "    <tr>\n",
       "      <td>0</td>\n",
       "      <td>1501</td>\n",
       "      <td>26830</td>\n",
       "      <td>1</td>\n",
       "    </tr>\n",
       "    <tr>\n",
       "      <td>1</td>\n",
       "      <td>1501</td>\n",
       "      <td>54253</td>\n",
       "      <td>1</td>\n",
       "    </tr>\n",
       "    <tr>\n",
       "      <td>2</td>\n",
       "      <td>1501</td>\n",
       "      <td>31962</td>\n",
       "      <td>1</td>\n",
       "    </tr>\n",
       "    <tr>\n",
       "      <td>3</td>\n",
       "      <td>1501</td>\n",
       "      <td>33647</td>\n",
       "      <td>1</td>\n",
       "    </tr>\n",
       "    <tr>\n",
       "      <td>4</td>\n",
       "      <td>1501</td>\n",
       "      <td>48199</td>\n",
       "      <td>1</td>\n",
       "    </tr>\n",
       "  </tbody>\n",
       "</table>\n",
       "</div>"
      ],
      "text/plain": [
       "   customer_id  item_id  quantity\n",
       "0         1501    26830         1\n",
       "1         1501    54253         1\n",
       "2         1501    31962         1\n",
       "3         1501    33647         1\n",
       "4         1501    48199         1"
      ]
     },
     "execution_count": 5,
     "metadata": {},
     "output_type": "execute_result"
    }
   ],
   "source": [
    "customer_transaction_data[[\"customer_id\", \"item_id\", \"quantity\"]].head()"
   ]
  },
  {
   "cell_type": "code",
   "execution_count": null,
   "metadata": {},
   "outputs": [],
   "source": [
    "# Using implicit package from Cython \n",
    "\n",
    "import sys\n",
    "import pandas as pd\n",
    "import numpy as np\n",
    "import scipy.sparse as sparse\n",
    "from scipy.sparse.linalg import spsolve\n",
    "import random\n",
    "\n",
    "from sklearn.preprocessing import MinMaxScaler\n",
    "\n",
    "import implicit\n",
    "\n",
    "# Load the data in simialr fashion and keep the required columns, like User , MCAT and PURCHASE count\n",
    "#raw_data = pd.read_csv('cat_13.csv')\n",
    "#raw_data = raw_data.loc[:,['GLUSR','MAPPED_MCAT','PURCHASE_CNT']]\n",
    "raw_data = customer_transaction_data[[\"customer_id\", \"item_id\", \"quantity\"]]\n",
    "#raw_data = raw_data.drop(raw_data.columns[1], axis=1)\n",
    "#raw_data.columns = ['user', 'mcat', 'purchase_cnt']\n",
    "raw_data.columns = ['user', 'items', 'quantity']\n",
    "\n",
    "# Drop missing values from the data\n",
    "data = raw_data.dropna()\n",
    "data = data.copy()\n",
    "\n",
    "# Create a categorical user_id and mcat_id column\n",
    "data['user'] = data['user'].astype(\"category\")\n",
    "data['mcat'] = data['mcat'].astype(\"category\")\n",
    "data['user_id'] = data['user'].cat.codes\n",
    "data['mcat_id'] = data['mcat'].cat.codes\n",
    "\n",
    "# The implicit library expects data as a item-user matrix so we need to create two matricies, one for fitting the model (item-user) \n",
    "# and another for recommendations (user-item)\n",
    "sparse_item_user = sparse.csr_matrix((data['purchase_cnt'].astype(float), (data['mcat_id'], data['user_id'])))\n",
    "sparse_user_item = sparse.csr_matrix((data['purchase_cnt'].astype(float), (data['user_id'], data['mcat_id'])))\n",
    "\n",
    "# Initializing the als algoritm and train the model using item-user matrix\n",
    "model = implicit.als.AlternatingLeastSquares(factors=20, regularization=0.1, iterations=20)\n",
    "\n",
    "# Calculating the confidence by multiplying sparse matrix with the alpha value.\n",
    "alpha_val = 15\n",
    "data_conf = (sparse_item_user * alpha_val).astype('double')\n",
    "\n",
    "#Fitting the model\n",
    "model.fit(data_conf)\n",
    "\n",
    "Ids = list(data.user_id.unique())\n",
    "R1 = pd.DataFrame(columns=['mcat_id','score','user_id'])\n",
    "R1\n",
    "\n",
    "\n",
    "for i in range(len(Ids)):\n",
    "    user_id = Ids[i]\n",
    "    \n",
    "    recommended = model.recommend(user_id, sparse_user_item)\n",
    "\n",
    "    mcats = []\n",
    "    scores = []\n",
    "    users = []\n",
    "\n",
    "# Get mcat names from mcat ids\n",
    "    for item in recommended:\n",
    "        idx, score = item\n",
    "        mcats.append(data.mcat.loc[data.mcat_id == idx].iloc[0])\n",
    "        #users.append(data.user.loc[data.user_id== idx].iloc[0])\n",
    "        scores.append(score)\n",
    "\n",
    "    # Create a dataframe of mcat names and scores\n",
    "    recommendations = pd.DataFrame({'mcat_id': mcats, 'score': scores})\n",
    "    recommendations['user_id'] = data.user.loc[data.user_id== Ids[i]].iloc[0]\n",
    "\n",
    "#print(recommendations)\n",
    "    \n",
    "    R1 = R1.append(recommendations)\n",
    "        \n",
    "        \n",
    "print(R1.shape)\n",
    "\n",
    "#Saving the outputs in the required format\n",
    "R2 = R1[['user_id','mcat_id','score']]\n",
    "R2 = R2.sort_values(by='user_id')\n",
    "R2.to_excel('user_to_mcat_recommen_ALS_grp_id13.xlsx',index=False)\n"
   ]
  },
  {
   "cell_type": "code",
   "execution_count": 6,
   "metadata": {},
   "outputs": [
    {
     "name": "stdout",
     "output_type": "stream",
     "text": [
      "   user  items  quantity\n",
      "0  1501  26830         1\n",
      "1  1501  54253         1\n",
      "2  1501  31962         1\n",
      "3  1501  33647         1\n",
      "4  1501  48199         1\n",
      "5  1501  57397         1\n",
      "6   857  12424         1\n",
      "7   857  14930         1\n",
      "8   857  16657         1\n",
      "9    67  10537         3\n"
     ]
    },
    {
     "data": {
      "text/plain": [
       "(<74067x1583 sparse matrix of type '<class 'numpy.float64'>'\n",
       " \twith 787687 stored elements in Compressed Sparse Row format>,\n",
       " <74067x1583 sparse matrix of type '<class 'numpy.float64'>'\n",
       " \twith 787687 stored elements in Compressed Sparse Row format>)"
      ]
     },
     "execution_count": 6,
     "metadata": {},
     "output_type": "execute_result"
    }
   ],
   "source": [
    "# Using implicit package from Cython \n",
    "\n",
    "import sys\n",
    "import pandas as pd\n",
    "import numpy as np\n",
    "import scipy.sparse as sparse\n",
    "from scipy.sparse.linalg import spsolve\n",
    "import random\n",
    "\n",
    "from sklearn.preprocessing import MinMaxScaler\n",
    "\n",
    "import implicit\n",
    "\n",
    "# Load the data in simialr fashion and keep the required columns, like User , MCAT and PURCHASE count\n",
    "#raw_data = pd.read_csv('cat_13.csv')\n",
    "#raw_data = raw_data.loc[:,['GLUSR','MAPPED_MCAT','PURCHASE_CNT']]\n",
    "raw_data = customer_transaction_data[[\"customer_id\", \"item_id\", \"quantity\"]]\n",
    "#raw_data = raw_data.drop(raw_data.columns[1], axis=1)\n",
    "#raw_data.columns = ['user', 'mcat', 'purchase_cnt']\n",
    "raw_data.columns = ['user', 'items', 'quantity']\n",
    "\n",
    "# Drop missing values from the data\n",
    "data = raw_data.dropna()\n",
    "data = data.copy()\n",
    "print(data.head(10))\n",
    "\n",
    "\n",
    "\n",
    "\n",
    "# The implicit library expects data as a item-user matrix so we need to create two matricies, one for fitting the model (item-user) \n",
    "# and another for recommendations (user-item)\n",
    "sparse_item_user = sparse.csr_matrix((data['quantity'].astype(float), (data['items'], data['user'])))\n",
    "sparse_user_item = sparse.csr_matrix((data['quantity'].astype(float), (data['user'], data['items'])))\n",
    "sparse_item_user, sparse_item_user"
   ]
  },
  {
   "cell_type": "code",
   "execution_count": 9,
   "metadata": {},
   "outputs": [],
   "source": [
    "# Initializing the als algoritm and train the model using item-user matrix\n",
    "model = implicit.als.AlternatingLeastSquares(factors=20, regularization=0.1, iterations=20)"
   ]
  },
  {
   "cell_type": "code",
   "execution_count": 10,
   "metadata": {},
   "outputs": [
    {
     "data": {
      "application/vnd.jupyter.widget-view+json": {
       "model_id": "65ce3e0a063b460199bd8d763bf3c992",
       "version_major": 2,
       "version_minor": 0
      },
      "text/plain": [
       "HBox(children=(IntProgress(value=0, max=20), HTML(value='')))"
      ]
     },
     "metadata": {},
     "output_type": "display_data"
    },
    {
     "name": "stdout",
     "output_type": "stream",
     "text": [
      "\n"
     ]
    }
   ],
   "source": [
    "# Calculating the confidence by multiplying sparse matrix with the alpha value.\n",
    "alpha_val = 15\n",
    "data_conf = (sparse_item_user * alpha_val).astype('double')\n",
    "#Fitting the model\n",
    "model.fit(data_conf)"
   ]
  },
  {
   "cell_type": "code",
   "execution_count": 11,
   "metadata": {},
   "outputs": [
    {
     "data": {
      "text/html": [
       "<div>\n",
       "<style scoped>\n",
       "    .dataframe tbody tr th:only-of-type {\n",
       "        vertical-align: middle;\n",
       "    }\n",
       "\n",
       "    .dataframe tbody tr th {\n",
       "        vertical-align: top;\n",
       "    }\n",
       "\n",
       "    .dataframe thead th {\n",
       "        text-align: right;\n",
       "    }\n",
       "</style>\n",
       "<table border=\"1\" class=\"dataframe\">\n",
       "  <thead>\n",
       "    <tr style=\"text-align: right;\">\n",
       "      <th></th>\n",
       "      <th>items</th>\n",
       "      <th>score</th>\n",
       "      <th>user</th>\n",
       "    </tr>\n",
       "  </thead>\n",
       "  <tbody>\n",
       "  </tbody>\n",
       "</table>\n",
       "</div>"
      ],
      "text/plain": [
       "Empty DataFrame\n",
       "Columns: [items, score, user]\n",
       "Index: []"
      ]
     },
     "execution_count": 11,
     "metadata": {},
     "output_type": "execute_result"
    }
   ],
   "source": [
    "Ids = list(data.user.unique())\n",
    "R1 = pd.DataFrame(columns=['items','score','user'])\n",
    "R1"
   ]
  },
  {
   "cell_type": "code",
   "execution_count": 12,
   "metadata": {},
   "outputs": [
    {
     "ename": "AttributeError",
     "evalue": "'function' object has no attribute 'loc'",
     "output_type": "error",
     "traceback": [
      "\u001b[1;31m---------------------------------------------------------------------------\u001b[0m",
      "\u001b[1;31mAttributeError\u001b[0m                            Traceback (most recent call last)",
      "\u001b[1;32m<ipython-input-12-68c92c4f1707>\u001b[0m in \u001b[0;36m<module>\u001b[1;34m\u001b[0m\n\u001b[0;32m      8\u001b[0m     \u001b[1;32mfor\u001b[0m \u001b[0mitem\u001b[0m \u001b[1;32min\u001b[0m \u001b[0mrecommended\u001b[0m\u001b[1;33m:\u001b[0m\u001b[1;33m\u001b[0m\u001b[1;33m\u001b[0m\u001b[0m\n\u001b[0;32m      9\u001b[0m         \u001b[0midx\u001b[0m\u001b[1;33m,\u001b[0m \u001b[0mscore\u001b[0m \u001b[1;33m=\u001b[0m \u001b[0mitem\u001b[0m\u001b[1;33m\u001b[0m\u001b[1;33m\u001b[0m\u001b[0m\n\u001b[1;32m---> 10\u001b[1;33m         \u001b[0mitems\u001b[0m\u001b[1;33m.\u001b[0m\u001b[0mappend\u001b[0m\u001b[1;33m(\u001b[0m\u001b[0mdata\u001b[0m\u001b[1;33m.\u001b[0m\u001b[0mitems\u001b[0m\u001b[1;33m.\u001b[0m\u001b[0mloc\u001b[0m\u001b[1;33m[\u001b[0m\u001b[0mdata\u001b[0m\u001b[1;33m.\u001b[0m\u001b[0mitems\u001b[0m \u001b[1;33m==\u001b[0m \u001b[0midx\u001b[0m\u001b[1;33m]\u001b[0m\u001b[1;33m.\u001b[0m\u001b[0miloc\u001b[0m\u001b[1;33m[\u001b[0m\u001b[1;36m0\u001b[0m\u001b[1;33m]\u001b[0m\u001b[1;33m)\u001b[0m\u001b[1;33m\u001b[0m\u001b[1;33m\u001b[0m\u001b[0m\n\u001b[0m\u001b[0;32m     11\u001b[0m         \u001b[1;31m#users.append(data.user.loc[data.user_id== idx].iloc[0])\u001b[0m\u001b[1;33m\u001b[0m\u001b[1;33m\u001b[0m\u001b[1;33m\u001b[0m\u001b[0m\n\u001b[0;32m     12\u001b[0m         \u001b[0mscores\u001b[0m\u001b[1;33m.\u001b[0m\u001b[0mappend\u001b[0m\u001b[1;33m(\u001b[0m\u001b[0mscore\u001b[0m\u001b[1;33m)\u001b[0m\u001b[1;33m\u001b[0m\u001b[1;33m\u001b[0m\u001b[0m\n",
      "\u001b[1;31mAttributeError\u001b[0m: 'function' object has no attribute 'loc'"
     ]
    }
   ],
   "source": [
    "for i in range(len(Ids)):\n",
    "    user_id = Ids[i]\n",
    "    recommended = model.recommend(user_id, sparse_user_item)\n",
    "    items = []\n",
    "    scores = []\n",
    "    users = []\n",
    "# Get mcat names from mcat ids\n",
    "    for item in recommended:\n",
    "        idx, score = item\n",
    "        items.append(data.items.loc[data.items == idx].iloc[0])\n",
    "        #users.append(data.user.loc[data.user_id== idx].iloc[0])\n",
    "        scores.append(score)\n",
    "    # Create a dataframe of mcat names and scores\n",
    "    recommendations = pd.DataFrame({'items': items, 'score': scores})\n",
    "    recommendations['user'] = data.user.loc[data.user== Ids[i]].iloc[0]\n",
    "#print(recommendations)\n",
    "    R1 = R1.append(recommendations)\n",
    "print(R1.shape)"
   ]
  },
  {
   "cell_type": "code",
   "execution_count": 14,
   "metadata": {},
   "outputs": [
    {
     "name": "stdout",
     "output_type": "stream",
     "text": [
      "   user  items  quantity\n",
      "0  1501  26830         1\n",
      "1  1501  54253         1\n",
      "2  1501  31962         1\n",
      "3  1501  33647         1\n",
      "4  1501  48199         1\n",
      "5  1501  57397         1\n",
      "6   857  12424         1\n",
      "7   857  14930         1\n",
      "8   857  16657         1\n",
      "9    67  10537         3\n"
     ]
    },
    {
     "data": {
      "application/vnd.jupyter.widget-view+json": {
       "model_id": "9d80cc2b0d30465db28e23681f0f5a40",
       "version_major": 2,
       "version_minor": 0
      },
      "text/plain": [
       "HBox(children=(IntProgress(value=0, max=20), HTML(value='')))"
      ]
     },
     "metadata": {},
     "output_type": "display_data"
    },
    {
     "name": "stdout",
     "output_type": "stream",
     "text": [
      "\n"
     ]
    },
    {
     "ename": "IndexError",
     "evalue": "index 1582 is out of bounds for axis 0 with size 1582",
     "output_type": "error",
     "traceback": [
      "\u001b[1;31m---------------------------------------------------------------------------\u001b[0m",
      "\u001b[1;31mIndexError\u001b[0m                                Traceback (most recent call last)",
      "\u001b[1;32m<ipython-input-14-86ea39a3ad77>\u001b[0m in \u001b[0;36m<module>\u001b[1;34m\u001b[0m\n\u001b[0;32m     41\u001b[0m \u001b[1;32mfor\u001b[0m \u001b[0mi\u001b[0m \u001b[1;32min\u001b[0m \u001b[0mrange\u001b[0m\u001b[1;33m(\u001b[0m\u001b[0mlen\u001b[0m\u001b[1;33m(\u001b[0m\u001b[0mIds\u001b[0m\u001b[1;33m)\u001b[0m\u001b[1;33m)\u001b[0m\u001b[1;33m:\u001b[0m\u001b[1;33m\u001b[0m\u001b[1;33m\u001b[0m\u001b[0m\n\u001b[0;32m     42\u001b[0m     \u001b[0muser_id\u001b[0m \u001b[1;33m=\u001b[0m \u001b[0mIds\u001b[0m\u001b[1;33m[\u001b[0m\u001b[0mi\u001b[0m\u001b[1;33m]\u001b[0m\u001b[1;33m\u001b[0m\u001b[1;33m\u001b[0m\u001b[0m\n\u001b[1;32m---> 43\u001b[1;33m     \u001b[0mrecommended\u001b[0m \u001b[1;33m=\u001b[0m \u001b[0mmodel\u001b[0m\u001b[1;33m.\u001b[0m\u001b[0mrecommend\u001b[0m\u001b[1;33m(\u001b[0m\u001b[0muser_id\u001b[0m\u001b[1;33m,\u001b[0m \u001b[0msparse_user_item\u001b[0m\u001b[1;33m)\u001b[0m\u001b[1;33m\u001b[0m\u001b[1;33m\u001b[0m\u001b[0m\n\u001b[0m\u001b[0;32m     44\u001b[0m     \u001b[0mitems\u001b[0m \u001b[1;33m=\u001b[0m \u001b[1;33m[\u001b[0m\u001b[1;33m]\u001b[0m\u001b[1;33m\u001b[0m\u001b[1;33m\u001b[0m\u001b[0m\n\u001b[0;32m     45\u001b[0m     \u001b[0mscores\u001b[0m \u001b[1;33m=\u001b[0m \u001b[1;33m[\u001b[0m\u001b[1;33m]\u001b[0m\u001b[1;33m\u001b[0m\u001b[1;33m\u001b[0m\u001b[0m\n",
      "\u001b[1;32mimplicit/recommender_base.pyx\u001b[0m in \u001b[0;36mimplicit.recommender_base.MatrixFactorizationBase.recommend\u001b[1;34m()\u001b[0m\n",
      "\u001b[1;32mimplicit/recommender_base.pyx\u001b[0m in \u001b[0;36mimplicit.recommender_base.MatrixFactorizationBase._user_factor\u001b[1;34m()\u001b[0m\n",
      "\u001b[1;31mIndexError\u001b[0m: index 1582 is out of bounds for axis 0 with size 1582"
     ]
    }
   ],
   "source": [
    "# Using implicit package from Cython\n",
    "import sys\n",
    "import pandas as pd\n",
    "import numpy as np\n",
    "import scipy.sparse as sparse\n",
    "from scipy.sparse.linalg import spsolve\n",
    "import random\n",
    "from sklearn.preprocessing import MinMaxScaler\n",
    "import implicit\n",
    "# Load the data in simialr fashion and keep the required columns, like User , MCAT and PURCHASE count\n",
    "#raw_data = pd.read_csv('cat_13.csv')\n",
    "#raw_data = raw_data.loc[:,['GLUSR','MAPPED_MCAT','PURCHASE_CNT']]\n",
    "raw_data = customer_transaction_data[[\"customer_id\", \"item_id\", \"quantity\"]]\n",
    "#raw_data = raw_data.drop(raw_data.columns[1], axis=1)\n",
    "#raw_data.columns = ['user', 'mcat', 'purchase_cnt']\n",
    "raw_data.columns = ['user', 'items', 'quantity']\n",
    "# Drop missing values from the data\n",
    "data = raw_data.dropna()\n",
    "data = data.copy()\n",
    "print(data.head(10))\n",
    "# Create a categorical user_id and mcat_id column\n",
    "data['user'] = data['user'].astype(\"category\")\n",
    "data['items'] = data['items'].astype(\"category\")\n",
    "data['user_id'] = data['user'].cat.codes\n",
    "data['item_id'] = data['items'].cat.codes\n",
    "# The implicit library expects data as a item-user matrix so we need to create two matricies, one for fitting the model (item-user)\n",
    "# and another for recommendations (user-item)\n",
    "sparse_item_user = sparse.csr_matrix((data['quantity'].astype(float), (data['item_id'], data['user_id'])))\n",
    "sparse_user_item = sparse.csr_matrix((data['quantity'].astype(float), (data['user_id'], data['item_id'])))\n",
    "sparse_item_user, sparse_item_user\n",
    "# Initializing the als algoritm and train the model using item-user matrix\n",
    "model = implicit.als.AlternatingLeastSquares(factors=20, regularization=0.1, iterations=20)\n",
    "# Calculating the confidence by multiplying sparse matrix with the alpha value.\n",
    "alpha_val = 15\n",
    "data_conf = (sparse_item_user * alpha_val).astype('double')\n",
    "#Fitting the model\n",
    "model.fit(data_conf)\n",
    "Ids = list(data.user.unique())\n",
    "R1 = pd.DataFrame(columns=['item_id','score','user_id'])\n",
    "R1\n",
    "for i in range(len(Ids)):\n",
    "    user_id = Ids[i]\n",
    "    recommended = model.recommend(user_id, sparse_user_item)\n",
    "    items = []\n",
    "    scores = []\n",
    "    users = []\n",
    "# Get mcat names from mcat ids\n",
    "    for item in recommended:\n",
    "        idx, score = item\n",
    "        items.append(data['items'].loc[data.item_id == idx].iloc[0])\n",
    "        #users.append(data.user.loc[data.user_id== idx].iloc[0])\n",
    "        scores.append(score)\n",
    "    # Create a dataframe of mcat names and scores\n",
    "    recommendations = pd.DataFrame({'item_id': items, 'score': scores})\n",
    "    recommendations['user_id'] = data.user.loc[data.user_id == Ids[i]].iloc[0]\n",
    "#print(recommendations)\n",
    "    R1 = R1.append(recommendations)\n",
    "print(R1.shape)"
   ]
  },
  {
   "cell_type": "code",
   "execution_count": 18,
   "metadata": {},
   "outputs": [
    {
     "data": {
      "text/plain": [
       "1582"
      ]
     },
     "execution_count": 18,
     "metadata": {},
     "output_type": "execute_result"
    }
   ],
   "source": [
    "len(data.user.unique())"
   ]
  },
  {
   "cell_type": "code",
   "execution_count": null,
   "metadata": {},
   "outputs": [
    {
     "data": {
      "application/vnd.jupyter.widget-view+json": {
       "model_id": "99523be69fdd4b3f8601502cf1090d01",
       "version_major": 2,
       "version_minor": 0
      },
      "text/plain": [
       "HBox(children=(IntProgress(value=0, max=20), HTML(value='')))"
      ]
     },
     "metadata": {},
     "output_type": "display_data"
    },
    {
     "name": "stdout",
     "output_type": "stream",
     "text": [
      "\n"
     ]
    }
   ],
   "source": [
    "# Using implicit package from Cython \n",
    "\n",
    "import sys\n",
    "import pandas as pd\n",
    "import numpy as np\n",
    "import scipy.sparse as sparse\n",
    "from scipy.sparse.linalg import spsolve\n",
    "import random\n",
    "\n",
    "from sklearn.preprocessing import MinMaxScaler\n",
    "\n",
    "import implicit\n",
    "\n",
    "# Load the data in simialr fashion and keep the required columns, like User , MCAT and PURCHASE count\n",
    "#raw_data = pd.read_csv('cat_13.csv')\n",
    "#raw_data = raw_data.loc[:,['GLUSR','MAPPED_MCAT','PURCHASE_CNT']]\n",
    "raw_data = customer_transaction_data[[\"customer_id\", \"item_id\", \"quantity\"]] \n",
    "#raw_data = raw_data.drop(raw_data.columns[1], axis=1)\n",
    "raw_data.columns = ['user', 'mcat', 'purchase_cnt']\n",
    "\n",
    "# Drop missing values from the data\n",
    "data = raw_data.dropna()\n",
    "data = data.copy()\n",
    "\n",
    "# Create a categorical user_id and mcat_id column\n",
    "data['user'] = data['user'].astype(\"category\")\n",
    "data['mcat'] = data['mcat'].astype(\"category\")\n",
    "data['user_id'] = data['user'].cat.codes\n",
    "data['mcat_id'] = data['mcat'].cat.codes\n",
    "\n",
    "# The implicit library expects data as a item-user matrix so we need to create two matricies, one for fitting the model (item-user) \n",
    "# and another for recommendations (user-item)\n",
    "sparse_item_user = sparse.csr_matrix((data['purchase_cnt'].astype(float), (data['mcat_id'], data['user_id'])))\n",
    "sparse_user_item = sparse.csr_matrix((data['purchase_cnt'].astype(float), (data['user_id'], data['mcat_id'])))\n",
    "\n",
    "# Initializing the als algoritm and train the model using item-user matrix\n",
    "model = implicit.als.AlternatingLeastSquares(factors=20, regularization=0.1, iterations=20)\n",
    "\n",
    "# Calculating the confidence by multiplying sparse matrix with the alpha value.\n",
    "alpha_val = 15\n",
    "data_conf = (sparse_item_user * alpha_val).astype('double')\n",
    "\n",
    "#Fitting the model\n",
    "model.fit(data_conf)\n",
    "\n",
    "Ids = list(data.user_id.unique())\n",
    "R1 = pd.DataFrame(columns=['mcat_id','score','user_id'])\n",
    "R1\n",
    "\n",
    "\n",
    "for i in range(len(Ids)):\n",
    "    user_id = Ids[i]\n",
    "    \n",
    "    recommended = model.recommend(user_id, sparse_user_item)\n",
    "\n",
    "    mcats = []\n",
    "    scores = []\n",
    "    users = []\n",
    "\n",
    "# Get mcat names from mcat ids\n",
    "    for item in recommended:\n",
    "        idx, score = item\n",
    "        mcats.append(data.mcat.loc[data.mcat_id == idx].iloc[0])\n",
    "        #users.append(data.user.loc[data.user_id== idx].iloc[0])\n",
    "        scores.append(score)\n",
    "\n",
    "    # Create a dataframe of mcat names and scores\n",
    "    recommendations = pd.DataFrame({'mcat_id': mcats, 'score': scores})\n",
    "    recommendations['user_id'] = data.user.loc[data.user_id== Ids[i]].iloc[0]\n",
    "\n",
    "#print(recommendations)\n",
    "    \n",
    "    R1 = R1.append(recommendations)\n",
    "        \n",
    "        \n",
    "print(R1.shape)\n",
    "\n",
    "#Saving the outputs in the required format\n",
    "R2 = R1[['customer_id','item_id']]\n",
    "R2 = R2.sort_values(by='customer_id')\n",
    "R2.to_csv('user_to_mcat_recommen_ALS_grp_id13.csv',index=False)"
   ]
  },
  {
   "cell_type": "code",
   "execution_count": null,
   "metadata": {},
   "outputs": [],
   "source": []
  }
 ],
 "metadata": {
  "kernelspec": {
   "display_name": "Python 3",
   "language": "python",
   "name": "python3"
  },
  "language_info": {
   "codemirror_mode": {
    "name": "ipython",
    "version": 3
   },
   "file_extension": ".py",
   "mimetype": "text/x-python",
   "name": "python",
   "nbconvert_exporter": "python",
   "pygments_lexer": "ipython3",
   "version": "3.7.4"
  }
 },
 "nbformat": 4,
 "nbformat_minor": 4
}
